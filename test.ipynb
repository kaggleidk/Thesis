{
 "cells": [
  {
   "cell_type": "code",
   "execution_count": 1,
   "metadata": {},
   "outputs": [],
   "source": [
    "from dateutil import parser\n",
    "import pandas as pd\n",
    "import numpy as np\n",
    "import matplotlib.pyplot as mp"
   ]
  },
  {
   "cell_type": "code",
   "execution_count": 12,
   "metadata": {},
   "outputs": [
    {
     "name": "stdout",
     "output_type": "stream",
     "text": [
      "[53.76190476190476, 53.8448275862069, 49.868852459016395, 41.283018867924525, 54.285714285714285, 53.333333333333336, nan]\n"
     ]
    },
    {
     "name": "stderr",
     "output_type": "stream",
     "text": [
      "c:\\Users\\maart\\AppData\\Local\\Programs\\Python\\Python310\\lib\\site-packages\\numpy\\core\\fromnumeric.py:3474: RuntimeWarning: Mean of empty slice.\n",
      "  return _methods._mean(a, axis=axis, dtype=dtype,\n",
      "c:\\Users\\maart\\AppData\\Local\\Programs\\Python\\Python310\\lib\\site-packages\\numpy\\core\\_methods.py:189: RuntimeWarning: invalid value encountered in double_scalars\n",
      "  ret = ret.dtype.type(ret / rcount)\n",
      "c:\\Users\\maart\\AppData\\Local\\Programs\\Python\\Python310\\lib\\site-packages\\numpy\\core\\_methods.py:264: RuntimeWarning: Degrees of freedom <= 0 for slice\n",
      "  ret = _var(a, axis=axis, dtype=dtype, out=out, ddof=ddof,\n",
      "c:\\Users\\maart\\AppData\\Local\\Programs\\Python\\Python310\\lib\\site-packages\\numpy\\core\\_methods.py:222: RuntimeWarning: invalid value encountered in true_divide\n",
      "  arrmean = um.true_divide(arrmean, div, out=arrmean, casting='unsafe',\n",
      "c:\\Users\\maart\\AppData\\Local\\Programs\\Python\\Python310\\lib\\site-packages\\numpy\\core\\_methods.py:256: RuntimeWarning: invalid value encountered in double_scalars\n",
      "  ret = ret.dtype.type(ret / rcount)\n",
      "c:\\Users\\maart\\AppData\\Local\\Programs\\Python\\Python310\\lib\\site-packages\\numpy\\core\\_methods.py:44: RuntimeWarning: invalid value encountered in reduce\n",
      "  return umr_minimum(a, axis, None, out, keepdims, initial, where)\n",
      "c:\\Users\\maart\\AppData\\Local\\Programs\\Python\\Python310\\lib\\site-packages\\numpy\\core\\_methods.py:40: RuntimeWarning: invalid value encountered in reduce\n",
      "  return umr_maximum(a, axis, None, out, keepdims, initial, where)\n"
     ]
    },
    {
     "data": {
      "image/png": "[encoded data removed]",
      "text/plain": [
       "<Figure size 1080x720 with 1 Axes>"
      ]
     },
     "metadata": {
      "needs_background": "light"
     },
     "output_type": "display_data"
    }
   ],
   "source": [
    "#store amount of squats per day\n",
    "\n",
    "averagePerDay = [0, 0, 0, 0, 0, 0, 0] #index = day of the week\n",
    "entriesPerDay = [0, 0, 0, 0, 0, 0, 0] #index = day of the week\n",
    "monday = []\n",
    "tuesday = []\n",
    "wednesday = []\n",
    "thursday = []\n",
    "friday = []\n",
    "saturday = []\n",
    "sunday = []\n",
    "\n",
    "#use pandas to open the file\n",
    "df = pd.read_csv('cu.csv')\n",
    "\n",
    "#loop through file\n",
    "for i in range(len(df)):\n",
    "    #for every file take the date and amount of squats\n",
    "    data = df.iloc[i]\n",
    "    #get day number\n",
    "    day = parser.parse(data[0]).weekday()\n",
    "    #print(day)\n",
    "    #get data\n",
    "    amount = int(data[1])\n",
    "\n",
    "    #add amount of squats to list of corresponding day\n",
    "    match day:\n",
    "        case 1:\n",
    "            monday.append(amount)\n",
    "        case 2:\n",
    "            tuesday.append(amount)\n",
    "        case 3:\n",
    "            wednesday.append(amount)\n",
    "        case 4:\n",
    "            thursday.append(amount)\n",
    "        case 5:\n",
    "            friday.append(amount)\n",
    "        case 6:\n",
    "            saturday.append(amount)\n",
    "        case 7:\n",
    "            sunday.append(amount)\n",
    "\n",
    "\n",
    "#create dataset mean squats per day\n",
    "data = {\n",
    "    'monday' : np.mean(monday),\n",
    "    'tuesday' : np.mean(tuesday),\n",
    "    'wednesday' : np.mean(wednesday),\n",
    "    'thursday' : np.mean(thursday),\n",
    "    'friday' : np.mean(friday),\n",
    "    'saturday' : np.mean(saturday),\n",
    "    'sunday' : np.mean(sunday)\n",
    "}\n",
    "\n",
    "#create list with standard deviation per day\n",
    "stdev = [np.std(monday), np.std(tuesday), np.std(wednesday), np.std(thursday), np.std(friday), np.std(saturday), np.std(sunday)]\n",
    "print(list(data.values()))\n",
    "days = list(data.keys())\n",
    "mean = list(data.values())\n",
    "\n",
    "#initialise plot\n",
    "f = mp.figure(figsize = (15, 5))\n",
    "#add data to the plot\n",
    "mp.bar(days, mean)\n",
    "#add errorbars\n",
    "mp.errorbar(days, mean, yerr=stdev, fmt='.', ecolor='black')\n",
    "mp.xlabel('days')\n",
    "mp.ylabel('mean number of squats')\n",
    "mp.title('mean number of squats per day')\n",
    "\n",
    "#show the plot\n",
    "mp.show()\n"
   ]
  },
  {
   "cell_type": "code",
   "execution_count": 11,
   "metadata": {},
   "outputs": [
    {
     "name": "stdout",
     "output_type": "stream",
     "text": [
      "[3575, 3387, 3123, 3042, 2188, 380, 480]\n",
      "[62, 63, 58, 61, 53, 7, 9]\n",
      "[57.66129032258065, 53.76190476190476, 53.8448275862069, 49.868852459016395, 41.283018867924525, 54.285714285714285, 53.333333333333336]\n",
      "[0.0, 0.0, 0.0, 0.0, 0.0, 0.0, 0.0]\n"
     ]
    },
    {
     "data": {
      "image/png": "[encoded data removed]",
      "text/plain": [
       "<Figure size 1080x360 with 1 Axes>"
      ]
     },
     "metadata": {
      "needs_background": "light"
     },
     "output_type": "display_data"
    }
   ],
   "source": [
    "#store amount of squats per day\n",
    "\n",
    "totalPerDay = [0, 0, 0, 0, 0, 0, 0] #index = day of the week\n",
    "entriesPerDay = [0, 0, 0, 0, 0, 0, 0] #index = day of the week\n",
    "\n",
    "#use pandas to open the file\n",
    "df = pd.read_csv('cu.csv')\n",
    "\n",
    "#loop through file\n",
    "for i in range(len(df)):\n",
    "    #for every file take the date and amount of squats\n",
    "    data = df.iloc[i]\n",
    "    \n",
    "    #get day number\n",
    "    day = parser.parse(data[0]).weekday()\n",
    "\n",
    "    #get data\n",
    "    amount = int(data[1])\n",
    "\n",
    "    totalPerDay[day] += amount\n",
    "    entriesPerDay[day] += 1\n",
    "\n",
    "\n",
    "print(totalPerDay)\n",
    "print(entriesPerDay)\n",
    "\n",
    "averagePerDay = []\n",
    "\n",
    "for i in range(len(totalPerDay)):\n",
    "    averagePerDay.append(totalPerDay[i] / entriesPerDay[i])\n",
    "\n",
    "print(averagePerDay)\n",
    "#create dataset mean squats per day\n",
    "data = {\n",
    "    'monday' : averagePerDay[0],\n",
    "    'tuesday' : averagePerDay[1],\n",
    "    'wednesday' : averagePerDay[2],\n",
    "    'thursday' : averagePerDay[3],\n",
    "    'friday' : averagePerDay[4],\n",
    "    'saturday' : averagePerDay[5],\n",
    "    'sunday' : averagePerDay[6]\n",
    "}\n",
    "\n",
    "#create list with standard deviation per day\n",
    "stdev = [np.std(totalPerDay[0]), np.std(totalPerDay[1]), np.std(totalPerDay[2]), np.std(totalPerDay[3]), np.std(totalPerDay[4]), np.std(totalPerDay[5]), np.std(totalPerDay[6])]\n",
    "print(stdev)\n",
    "\n",
    "days = list(data.keys())\n",
    "mean = list(data.values())\n",
    "\n",
    "#initialise plot\n",
    "f = mp.figure(figsize = (15, 5))\n",
    "#add data to the plot\n",
    "mp.bar(days, mean)\n",
    "#add errorbars\n",
    "mp.errorbar(days, mean, yerr=stdev, fmt='.', ecolor='black')\n",
    "mp.xlabel('days')\n",
    "mp.ylabel('mean number of squats')\n",
    "mp.title('mean number of squats per day')\n",
    "\n",
    "#show the plot\n",
    "mp.show()"
   ]
  }
 ],
 "metadata": {
  "kernelspec": {
   "display_name": "Python 3",
   "language": "python",
   "name": "python3"
  },
  "language_info": {
   "codemirror_mode": {
    "name": "ipython",
    "version": 3
   },
   "file_extension": ".py",
   "mimetype": "text/x-python",
   "name": "python",
   "nbconvert_exporter": "python",
   "pygments_lexer": "ipython3",
   "version": "3.10.1"
  },
  "orig_nbformat": 4,
  "vscode": {
   "interpreter": {
    "hash": "19f9ddf3622c0b1569490fd927172cf777b9021a692f6f37361c5e5933f47574"
   }
  }
 },
 "nbformat": 4,
 "nbformat_minor": 2
}
